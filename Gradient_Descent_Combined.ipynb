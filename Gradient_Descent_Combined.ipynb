{
 "cells": [
  {
   "cell_type": "code",
   "execution_count": 315,
   "metadata": {},
   "outputs": [],
   "source": [
    "import numpy as np\n",
    "import pandas as pd"
   ]
  },
  {
   "cell_type": "code",
   "execution_count": 316,
   "metadata": {},
   "outputs": [],
   "source": [
    "df_train = np.genfromtxt(\"training_ccpp_x_y_train.csv\", delimiter=\",\")\n",
    "df_test = np.genfromtxt(\"test_ccpp_x_test.csv\", delimiter=\",\")"
   ]
  },
  {
   "cell_type": "code",
   "execution_count": 317,
   "metadata": {},
   "outputs": [],
   "source": [
    "x_train = df_train[:, 0:-1]\n",
    "y_train = df_train[:, -1]"
   ]
  },
  {
   "cell_type": "code",
   "execution_count": 318,
   "metadata": {},
   "outputs": [],
   "source": [
    "from sklearn import preprocessing as pp\n",
    "\n",
    "scaled = pp.StandardScaler()\n",
    "scaled.fit(x_train)\n",
    "x_train = scaled.transform(x_train)\n",
    "\n",
    "df_test = scaled.transform(df_test)"
   ]
  },
  {
   "cell_type": "code",
   "execution_count": 319,
   "metadata": {},
   "outputs": [],
   "source": [
    "def step_gd(x, y, learning_rate, m):\n",
    "    M = len(x)\n",
    "\n",
    "    m_slope = (-2 / M) * (((y - (x * m).sum(axis=1)).reshape(-1, 1)) * x).sum(axis=0)\n",
    "\n",
    "    m = m - learning_rate * m_slope\n",
    "\n",
    "    return m"
   ]
  },
  {
   "cell_type": "code",
   "execution_count": 320,
   "metadata": {},
   "outputs": [],
   "source": [
    "def gd(x, y, learning_rate, num_iterations):\n",
    "    m = np.zeros(len(x[0]))\n",
    "\n",
    "    for i in range(num_iterations):\n",
    "        m = step_gd(x, y, learning_rate, m)\n",
    "\n",
    "    return m"
   ]
  },
  {
   "cell_type": "code",
   "execution_count": 321,
   "metadata": {},
   "outputs": [],
   "source": [
    "def run():\n",
    "    learning_rate = 0.01\n",
    "    num_iterations = 500\n",
    "\n",
    "    df = pd.DataFrame(x_train)\n",
    "    df[x_train.shape[1]] = 1\n",
    "    x = df.values\n",
    "\n",
    "    m = gd(x, y_train, learning_rate, num_iterations)\n",
    "\n",
    "    return m[0:-1], m[-1]"
   ]
  },
  {
   "cell_type": "code",
   "execution_count": 322,
   "metadata": {},
   "outputs": [
    {
     "name": "stdout",
     "output_type": "stream",
     "text": [
      "[-12.02133762  -5.01166646   0.89853625  -1.39384519] 454.41265061693235\n"
     ]
    }
   ],
   "source": [
    "m, c = run()\n",
    "print(m, c)"
   ]
  },
  {
   "cell_type": "code",
   "execution_count": 323,
   "metadata": {},
   "outputs": [],
   "source": [
    "y_pred = np.zeros(len(df_test))"
   ]
  },
  {
   "cell_type": "code",
   "execution_count": 324,
   "metadata": {},
   "outputs": [],
   "source": [
    "for i in range(len(df_test)):\n",
    "    y_pred[i] = (m * df_test[i, :]).sum() + c"
   ]
  },
  {
   "cell_type": "code",
   "execution_count": 325,
   "metadata": {},
   "outputs": [],
   "source": [
    "# y_pred"
   ]
  },
  {
   "cell_type": "code",
   "execution_count": 326,
   "metadata": {},
   "outputs": [],
   "source": [
    "y_pred = np.around(y_pred, decimals=5)\n",
    "\n",
    "file = np.savetxt(\"prediction_ccpp.csv\", y_pred, delimiter=\", \")"
   ]
  },
  {
   "cell_type": "code",
   "execution_count": null,
   "metadata": {},
   "outputs": [],
   "source": []
  },
  {
   "cell_type": "code",
   "execution_count": null,
   "metadata": {},
   "outputs": [],
   "source": []
  }
 ],
 "metadata": {
  "kernelspec": {
   "display_name": "Python 3",
   "language": "python",
   "name": "python3"
  },
  "language_info": {
   "codemirror_mode": {
    "name": "ipython",
    "version": 3
   },
   "file_extension": ".py",
   "mimetype": "text/x-python",
   "name": "python",
   "nbconvert_exporter": "python",
   "pygments_lexer": "ipython3",
   "version": "3.11.2"
  },
  "orig_nbformat": 4
 },
 "nbformat": 4,
 "nbformat_minor": 2
}
