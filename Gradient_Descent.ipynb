{
 "cells": [
  {
   "cell_type": "code",
   "execution_count": 256,
   "metadata": {},
   "outputs": [],
   "source": [
    "import numpy as np"
   ]
  },
  {
   "cell_type": "code",
   "execution_count": 257,
   "metadata": {},
   "outputs": [],
   "source": [
    "df_train = np.genfromtxt(\"training_boston_x_y_train.csv\", delimiter=\",\")\n",
    "df_test = np.genfromtxt(\"test_boston_x_test.csv\", delimiter=\",\")"
   ]
  },
  {
   "cell_type": "code",
   "execution_count": 258,
   "metadata": {},
   "outputs": [],
   "source": [
    "def cost(points, m, c):\n",
    "    total_cost = 0\n",
    "\n",
    "    for j in range(len(points[0, :]) - 1):\n",
    "        for i in range(len(points)):\n",
    "            x = points[i, j : j + 1]\n",
    "            y = points[i, -1]\n",
    "            total_cost += (1 / len(points)) * ((y - m * x - c) ** 2)\n",
    "        return total_cost"
   ]
  },
  {
   "cell_type": "code",
   "execution_count": 259,
   "metadata": {},
   "outputs": [],
   "source": [
    "def step_gd(points, learning_rate, m, c):\n",
    "    m_list = []\n",
    "    c_list = []\n",
    "    m_slope = 0\n",
    "    c_slope = 0\n",
    "\n",
    "    for j in range(len(points[0, :]) - 1):\n",
    "        for i in range(len(points)):\n",
    "            x = points[i, j : j + 1]\n",
    "            y = points[i, -1]\n",
    "\n",
    "            m_slope += (-2 / len(points)) * (y - m * x - c) * x\n",
    "            c_slope += (-2 / len(points)) * (y - m * x - c)\n",
    "        new_m = m - learning_rate * m_slope\n",
    "        new_c = c - learning_rate * c_slope\n",
    "        m_list.append(new_m)\n",
    "        c_list.append(new_c)\n",
    "\n",
    "    return m_list, c_list"
   ]
  },
  {
   "cell_type": "code",
   "execution_count": 260,
   "metadata": {},
   "outputs": [],
   "source": [
    "def gd(df_train, learning_rate, num_iterations):\n",
    "    m = 0\n",
    "    c = 0\n",
    "\n",
    "    for i in range(num_iterations):\n",
    "        m_list, c_list = step_gd(df_train, learning_rate, m, c)\n",
    "        for j in range(len(m_list)):\n",
    "            print(i, \" Cost: \", cost(df_train, m_list[j], c_list[j]))\n",
    "\n",
    "    return m_list, c_list"
   ]
  },
  {
   "cell_type": "code",
   "execution_count": 261,
   "metadata": {},
   "outputs": [],
   "source": [
    "def run():\n",
    "    learning_rate = 0.01\n",
    "    num_iterations = 10\n",
    "    m_list, c_list = gd(df_train, learning_rate, num_iterations)\n",
    "    print(\"Final m :\", m_list)\n",
    "    print(\"Final c :\", c_list)\n",
    "    return m_list, c_list"
   ]
  },
  {
   "cell_type": "code",
   "execution_count": 262,
   "metadata": {},
   "outputs": [
    {
     "name": "stdout",
     "output_type": "stream",
     "text": [
      "0  Cost:  [578.46156251]\n",
      "0  Cost:  [559.01430854]\n",
      "0  Cost:  [539.09978862]\n",
      "0  Cost:  [520.38720496]\n",
      "0  Cost:  [501.3606046]\n",
      "0  Cost:  [484.08040816]\n",
      "0  Cost:  [465.96850178]\n",
      "0  Cost:  [448.88396367]\n",
      "0  Cost:  [431.59453173]\n",
      "0  Cost:  [414.60007568]\n",
      "0  Cost:  [397.90595975]\n",
      "0  Cost:  [382.51468414]\n",
      "0  Cost:  [366.33322255]\n",
      "1  Cost:  [578.46156251]\n",
      "1  Cost:  [559.01430854]\n",
      "1  Cost:  [539.09978862]\n",
      "1  Cost:  [520.38720496]\n",
      "1  Cost:  [501.3606046]\n",
      "1  Cost:  [484.08040816]\n",
      "1  Cost:  [465.96850178]\n",
      "1  Cost:  [448.88396367]\n",
      "1  Cost:  [431.59453173]\n",
      "1  Cost:  [414.60007568]\n",
      "1  Cost:  [397.90595975]\n",
      "1  Cost:  [382.51468414]\n",
      "1  Cost:  [366.33322255]\n",
      "2  Cost:  [578.46156251]\n",
      "2  Cost:  [559.01430854]\n",
      "2  Cost:  [539.09978862]\n",
      "2  Cost:  [520.38720496]\n",
      "2  Cost:  [501.3606046]\n",
      "2  Cost:  [484.08040816]\n",
      "2  Cost:  [465.96850178]\n",
      "2  Cost:  [448.88396367]\n",
      "2  Cost:  [431.59453173]\n",
      "2  Cost:  [414.60007568]\n",
      "2  Cost:  [397.90595975]\n",
      "2  Cost:  [382.51468414]\n",
      "2  Cost:  [366.33322255]\n",
      "3  Cost:  [578.46156251]\n",
      "3  Cost:  [559.01430854]\n",
      "3  Cost:  [539.09978862]\n",
      "3  Cost:  [520.38720496]\n",
      "3  Cost:  [501.3606046]\n",
      "3  Cost:  [484.08040816]\n",
      "3  Cost:  [465.96850178]\n",
      "3  Cost:  [448.88396367]\n",
      "3  Cost:  [431.59453173]\n",
      "3  Cost:  [414.60007568]\n",
      "3  Cost:  [397.90595975]\n",
      "3  Cost:  [382.51468414]\n",
      "3  Cost:  [366.33322255]\n",
      "4  Cost:  [578.46156251]\n",
      "4  Cost:  [559.01430854]\n",
      "4  Cost:  [539.09978862]\n",
      "4  Cost:  [520.38720496]\n",
      "4  Cost:  [501.3606046]\n",
      "4  Cost:  [484.08040816]\n",
      "4  Cost:  [465.96850178]\n",
      "4  Cost:  [448.88396367]\n",
      "4  Cost:  [431.59453173]\n",
      "4  Cost:  [414.60007568]\n",
      "4  Cost:  [397.90595975]\n",
      "4  Cost:  [382.51468414]\n",
      "4  Cost:  [366.33322255]\n",
      "5  Cost:  [578.46156251]\n",
      "5  Cost:  [559.01430854]\n",
      "5  Cost:  [539.09978862]\n",
      "5  Cost:  [520.38720496]\n",
      "5  Cost:  [501.3606046]\n",
      "5  Cost:  [484.08040816]\n",
      "5  Cost:  [465.96850178]\n",
      "5  Cost:  [448.88396367]\n",
      "5  Cost:  [431.59453173]\n",
      "5  Cost:  [414.60007568]\n",
      "5  Cost:  [397.90595975]\n",
      "5  Cost:  [382.51468414]\n",
      "5  Cost:  [366.33322255]\n",
      "6  Cost:  [578.46156251]\n",
      "6  Cost:  [559.01430854]\n",
      "6  Cost:  [539.09978862]\n",
      "6  Cost:  [520.38720496]\n",
      "6  Cost:  [501.3606046]\n",
      "6  Cost:  [484.08040816]\n",
      "6  Cost:  [465.96850178]\n",
      "6  Cost:  [448.88396367]\n",
      "6  Cost:  [431.59453173]\n",
      "6  Cost:  [414.60007568]\n",
      "6  Cost:  [397.90595975]\n",
      "6  Cost:  [382.51468414]\n",
      "6  Cost:  [366.33322255]\n",
      "7  Cost:  [578.46156251]\n",
      "7  Cost:  [559.01430854]\n",
      "7  Cost:  [539.09978862]\n",
      "7  Cost:  [520.38720496]\n",
      "7  Cost:  [501.3606046]\n",
      "7  Cost:  [484.08040816]\n",
      "7  Cost:  [465.96850178]\n",
      "7  Cost:  [448.88396367]\n",
      "7  Cost:  [431.59453173]\n",
      "7  Cost:  [414.60007568]\n",
      "7  Cost:  [397.90595975]\n",
      "7  Cost:  [382.51468414]\n",
      "7  Cost:  [366.33322255]\n",
      "8  Cost:  [578.46156251]\n",
      "8  Cost:  [559.01430854]\n",
      "8  Cost:  [539.09978862]\n",
      "8  Cost:  [520.38720496]\n",
      "8  Cost:  [501.3606046]\n",
      "8  Cost:  [484.08040816]\n",
      "8  Cost:  [465.96850178]\n",
      "8  Cost:  [448.88396367]\n",
      "8  Cost:  [431.59453173]\n",
      "8  Cost:  [414.60007568]\n",
      "8  Cost:  [397.90595975]\n",
      "8  Cost:  [382.51468414]\n",
      "8  Cost:  [366.33322255]\n",
      "9  Cost:  [578.46156251]\n",
      "9  Cost:  [559.01430854]\n",
      "9  Cost:  [539.09978862]\n",
      "9  Cost:  [520.38720496]\n",
      "9  Cost:  [501.3606046]\n",
      "9  Cost:  [484.08040816]\n",
      "9  Cost:  [465.96850178]\n",
      "9  Cost:  [448.88396367]\n",
      "9  Cost:  [431.59453173]\n",
      "9  Cost:  [414.60007568]\n",
      "9  Cost:  [397.90595975]\n",
      "9  Cost:  [382.51468414]\n",
      "9  Cost:  [366.33322255]\n",
      "Final m : [array([-0.06490318]), array([-0.00470967]), array([-0.08060075]), array([-0.03316683]), array([-0.09828988]), array([0.04250836]), array([-0.00605955]), array([0.03832635]), array([-0.00935017]), array([-0.07504715]), array([-0.15904164]), array([-0.10343098]), array([-0.23666208])]\n",
      "Final c : [array([0.45218997]), array([0.90437995]), array([1.35656992]), array([1.80875989]), array([2.26094987]), array([2.71313984]), array([3.16532982]), array([3.61751979]), array([4.06970976]), array([4.52189974]), array([4.97408971]), array([5.42627968]), array([5.87846966])]\n"
     ]
    }
   ],
   "source": [
    "m_list, c_list = run()"
   ]
  },
  {
   "cell_type": "code",
   "execution_count": 263,
   "metadata": {},
   "outputs": [],
   "source": [
    "# y = (mx)_1 + (mx)_2 + (mx)_3 + ... + c"
   ]
  },
  {
   "cell_type": "code",
   "execution_count": 264,
   "metadata": {},
   "outputs": [
    {
     "name": "stdout",
     "output_type": "stream",
     "text": [
      "0\n",
      "1\n",
      "2\n",
      "3\n",
      "4\n",
      "5\n",
      "6\n",
      "7\n",
      "8\n",
      "9\n",
      "10\n",
      "11\n",
      "12\n",
      "13\n"
     ]
    },
    {
     "ename": "IndexError",
     "evalue": "list index out of range",
     "output_type": "error",
     "traceback": [
      "\u001b[1;31m---------------------------------------------------------------------------\u001b[0m",
      "\u001b[1;31mIndexError\u001b[0m                                Traceback (most recent call last)",
      "Cell \u001b[1;32mIn[264], line 12\u001b[0m\n\u001b[0;32m      9\u001b[0m   y_temp \u001b[39m+\u001b[39m\u001b[39m=\u001b[39m m_list[j] \u001b[39m*\u001b[39m df_test[i][j]\n\u001b[0;32m     11\u001b[0m \u001b[39mprint\u001b[39m(k)\n\u001b[1;32m---> 12\u001b[0m y_temp \u001b[39m+\u001b[39m\u001b[39m=\u001b[39m c_list[k]\n\u001b[0;32m     13\u001b[0m k \u001b[39m+\u001b[39m\u001b[39m=\u001b[39m \u001b[39m1\u001b[39m\n\u001b[0;32m     15\u001b[0m y_pred\u001b[39m.\u001b[39mappend(y_temp)\n",
      "\u001b[1;31mIndexError\u001b[0m: list index out of range"
     ]
    }
   ],
   "source": [
    "y_pred = []\n",
    "k = 0\n",
    "\n",
    "\n",
    "for i in range(len(df_test)):\n",
    "    y_temp = 0\n",
    "    # print(df_test[i])\n",
    "    for j in range(len(df_test[0])):\n",
    "        y_temp += m_list[j] * df_test[i][j]\n",
    "\n",
    "        if j == len(df_test[0] - 1):\n",
    "            y_temp += c_list[k]\n",
    "\n",
    "    y_pred.append(y_temp)\n",
    "\n",
    "print(y_pred)"
   ]
  },
  {
   "cell_type": "code",
   "execution_count": null,
   "metadata": {},
   "outputs": [],
   "source": []
  },
  {
   "cell_type": "code",
   "execution_count": null,
   "metadata": {},
   "outputs": [],
   "source": []
  },
  {
   "cell_type": "code",
   "execution_count": null,
   "metadata": {},
   "outputs": [],
   "source": []
  },
  {
   "cell_type": "code",
   "execution_count": null,
   "metadata": {},
   "outputs": [],
   "source": []
  },
  {
   "cell_type": "code",
   "execution_count": null,
   "metadata": {},
   "outputs": [],
   "source": []
  },
  {
   "cell_type": "code",
   "execution_count": null,
   "metadata": {},
   "outputs": [],
   "source": []
  },
  {
   "cell_type": "code",
   "execution_count": null,
   "metadata": {},
   "outputs": [],
   "source": []
  },
  {
   "cell_type": "code",
   "execution_count": null,
   "metadata": {},
   "outputs": [],
   "source": []
  },
  {
   "cell_type": "code",
   "execution_count": null,
   "metadata": {},
   "outputs": [],
   "source": []
  },
  {
   "cell_type": "code",
   "execution_count": null,
   "metadata": {},
   "outputs": [],
   "source": []
  }
 ],
 "metadata": {
  "kernelspec": {
   "display_name": "Python 3",
   "language": "python",
   "name": "python3"
  },
  "language_info": {
   "codemirror_mode": {
    "name": "ipython",
    "version": 3
   },
   "file_extension": ".py",
   "mimetype": "text/x-python",
   "name": "python",
   "nbconvert_exporter": "python",
   "pygments_lexer": "ipython3",
   "version": "3.11.2"
  },
  "orig_nbformat": 4
 },
 "nbformat": 4,
 "nbformat_minor": 2
}
